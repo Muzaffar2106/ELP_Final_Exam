{
  "nbformat": 4,
  "nbformat_minor": 0,
  "metadata": {
    "colab": {
      "private_outputs": true,
      "provenance": [],
      "include_colab_link": true
    },
    "kernelspec": {
      "name": "python3",
      "display_name": "Python 3"
    },
    "language_info": {
      "name": "python"
    }
  },
  "cells": [
    {
      "cell_type": "markdown",
      "metadata": {
        "id": "view-in-github",
        "colab_type": "text"
      },
      "source": [
        "<a href=\"https://colab.research.google.com/github/Muzaffar2106/ELP_Final_Exam/blob/main/assessment_questions_s1_2023.ipynb\" target=\"_parent\"><img src=\"https://colab.research.google.com/assets/colab-badge.svg\" alt=\"Open In Colab\"/></a>"
      ]
    },
    {
      "cell_type": "markdown",
      "source": [
        "<center>\n",
        "\n",
        "# Extended Learning Portfolio\n",
        "\n",
        "**ISYS2001 Introduction to Business Programming**\n",
        "\n",
        "<small>School of Management\n",
        "\n",
        "Semester 1 2023\n",
        "</small>\n",
        "</center>\n",
        "\n",
        "This examination is an open-book format. You are permitted to utilise a variety of resources, including textbooks, web content, and AI tools, to complete the exam. However, it's important to note that all work submitted must be your own. Any work or ideas not your own must be properly referenced. \n",
        "\n",
        "Please refrain from discussing your responses to these questions with fellow students. If you have any inquiries about the questions about this assessment, please contact the instructor directly.  Any questions submitted to the instructor concerning this assesment will have the question and responses will be posted to this discussion forum.  \n",
        "\n",
        "The examination duration is a total of 24 hours. This time frame begins at the predetermined exam start time and does not depend on when you commence the download. If you have accommodations under a CAP arrangement, the duration of the exam will be adjusted accordingly. If you feel that your CAP accommodations have not been satisfactorily implemented, please reach out to me immediately.\n",
        "\n",
        "This examination consists of four questions in total, and you are required to provide answers to all of them. Each question should be contained within its own notebook, with the exception of Question Four, which can be compiled in a Microsoft Word document. To submit your answers, please establish a private GitHub repository and upload all of your responses to the designated questions, inclusive of the Word document for Question Four, to this repository.\n",
        "\n",
        "Upon completion of all the questions, proceed to download the zip file of your GitHub repository. This file should be submitted via the link provided on Blackboard. Additionally, a separate submission of the Word document for Question Four must be made through the Turnitin link available on Blackboard."
      ],
      "metadata": {
        "id": "1M9yB5U0yefZ"
      }
    },
    {
      "cell_type": "markdown",
      "source": [
        "# Question 1\n",
        "\n",
        "Write a Python program within this or another notebook that performs advanced file analysis. The program should prompt the user to enter the path to a text file and allow them to choose from various analysis options:\n",
        "\n",
        "* Counting the number of lines.\n",
        "* Counting the total number of words.\n",
        "* Counting the total number of characters, both including and excluding whitespace.\n",
        "* Identifying the frequency of each word in the text.\n",
        "* Identifying the top 5 most common words in the text.\n",
        "\n",
        "After receiving the user input, your program should read the file and perform the chosen analysis, outputting the results in a clear, human-readable format.\n",
        "\n",
        "*Question subparts:*\n",
        "\n",
        "1. Implement the notebook program as described above. Your program should be robust and handle possible edge cases, such as file not found or incorrect input from the user.\n",
        "2. Write a brief description of your program, explaining how to use it and what each analysis option does. This description should be written as if for other developers or users who might use your tool.\n",
        "3. Write a few test cases to validate your tool. Consider edge cases such as empty files, very large files, files with unusual characters, and so on.\n",
        "4. Discuss how you would modify your tool to analyze binary files, or large files that do not fit into memory. What kind of analysis could be useful in these cases?\n",
        "5. Provide a few example text files and show the output of your program when run with these files.\n",
        "\n",
        "Remember to include necessary error handling in your program to make it robust and reliable.\n",
        "\n",
        "**[40 Marks]**"
      ],
      "metadata": {
        "id": "w3Y-At852J91"
      }
    },
    {
      "cell_type": "markdown",
      "source": [
        "#**Answers for Question 1**"
      ],
      "metadata": {
        "id": "GO9V27u_0sB7"
      }
    },
    {
      "cell_type": "markdown",
      "source": [
        "1."
      ],
      "metadata": {
        "id": "SOAoQBF70x0e"
      }
    },
    {
      "cell_type": "code",
      "source": [
        "from google.colab import drive\n",
        "drive.mount('/content/drive')"
      ],
      "metadata": {
        "id": "kawMR9u7w2-p"
      },
      "execution_count": null,
      "outputs": []
    },
    {
      "cell_type": "code",
      "source": [
        "from collections import Counter\n",
        "\n",
        "# Prompt the user to enter a file path\n",
        "filepath = input(\"Enter the file path: \")\n",
        "\n",
        "\n",
        "def Counting_lines(file_path):\n",
        "    try:\n",
        "        with open(file_path, 'r') as file:\n",
        "            line_count = sum(1 for _ in file)\n",
        "            return line_count\n",
        "    except FileNotFoundError:\n",
        "        print(\"File not found.\")\n",
        "    except IOError:\n",
        "        print(\"Error reading the file.\")\n",
        "\n",
        "\n",
        "def Counting_words(file_path):\n",
        "    try:\n",
        "        with open(file_path, 'r') as file:\n",
        "            content = file.read()\n",
        "            word_count = len(content.split())\n",
        "            return word_count\n",
        "    except FileNotFoundError:\n",
        "        print(\"File not found.\")\n",
        "    except IOError:\n",
        "        print(\"Error reading the file.\")\n",
        "\n",
        "\n",
        "def Counting_characters(file_path):\n",
        "    try:\n",
        "        with open(file_path, 'r') as file:\n",
        "            content = file.read()\n",
        "            total_characters = len(content)\n",
        "            characters_without_whitespace = len(content.replace(\" \", \"\").replace(\"\\n\", \"\"))\n",
        "            return total_characters, characters_without_whitespace\n",
        "    except FileNotFoundError:\n",
        "        print(\"File not found.\")\n",
        "    except IOError:\n",
        "        print(\"Error reading the file.\")\n",
        "\n",
        "\n",
        "def Counting_word_frequency(file_path):\n",
        "    try:\n",
        "        with open(file_path, 'r') as file:\n",
        "            content = file.read()\n",
        "            words = content.split()\n",
        "            word_frequency = Counter(words)\n",
        "            return word_frequency\n",
        "    except FileNotFoundError:\n",
        "        print(\"File not found.\")\n",
        "    except IOError:\n",
        "        print(\"Error reading the file.\")\n",
        "\n",
        "\n",
        "def Getting_top_common_words(file_path, n=5):\n",
        "    try:\n",
        "        with open(file_path, 'r') as file:\n",
        "            content = file.read()\n",
        "            words = content.split()\n",
        "            word_frequency = Counter(words)\n",
        "            top_common_words = word_frequency.most_common(n)\n",
        "            return top_common_words\n",
        "    except FileNotFoundError:\n",
        "        print(\"File not found.\")\n",
        "    except IOError:\n",
        "        print(\"Error reading the file.\")\n",
        "\n",
        "\n",
        "# Count the lines in the file\n",
        "lineCount = Counting_lines(filepath)\n",
        "if lineCount is not None:\n",
        "    print(f\"The file '{filepath}' contains {lineCount} lines.\")\n",
        "\n",
        "# Count the words in the file\n",
        "wordCount = Counting_words(filepath)\n",
        "if wordCount is not None:\n",
        "    print(f\"The file contains {wordCount} words.\")\n",
        "\n",
        "# Count the characters in the file\n",
        "total_chars, chars_without_whitespace = Counting_characters(filepath)\n",
        "if total_chars is not None and chars_without_whitespace is not None:\n",
        "    print(f\"Total characters (including whitespace): {total_chars}\")\n",
        "    print(f\"Total characters (excluding whitespace): {chars_without_whitespace}\")\n",
        "\n",
        "# Count the frequency of words in the file\n",
        "wordFrequency = Counting_word_frequency(filepath)\n",
        "if wordFrequency is not None:\n",
        "    print(f\"The word frequency in the file is:\")\n",
        "    for word, frequency in wordFrequency.items():\n",
        "        print(f\"{word}: {frequency}\")\n",
        "\n",
        "# Get the top 5 most common words in the file\n",
        "topCommonWords = Getting_top_common_words(filepath, n=5)\n",
        "if topCommonWords is not None:\n",
        "    print(f\"The top 5 most common words in the file are:\")\n",
        "    for word, frequency in topCommonWords:\n",
        "        print(f\"{word}: {frequency}\")"
      ],
      "metadata": {
        "id": "4yl2iku3xh0k"
      },
      "execution_count": null,
      "outputs": []
    },
    {
      "cell_type": "markdown",
      "source": [
        "2.\n"
      ],
      "metadata": {
        "id": "F8I9BqEg00-T"
      }
    },
    {
      "cell_type": "markdown",
      "source": [
        "With the help of this program, users can analyze a text file in a number of different ways. The program and each analysis option are briefly described below:\n",
        "\n",
        "Counting the number of lines:\n",
        "This parameter determines how many lines are present in the provided text file overall.\n",
        "\n",
        "Counting the total number of words:\n",
        "This option counts all of the words in the given text file.\n",
        "\n",
        "Counting the total number of characters:\n",
        "With both whitespace and non-whitespace characters included, this option counts all the characters in the provided text file.Additionally, it offers a character count that excludes whitespace.\n",
        "\n",
        "Identifying the frequency of each word in the text:\n",
        "This option shows how frequently each distinct word appears in the given text file.\n",
        "\n",
        "Counting the text's top five most frequent words:\n",
        "Based on their frequency count, this option reveals the top 5 most frequent words in the given text file.\n",
        "\n",
        "\n",
        "\n",
        "\n",
        "\n",
        "\n",
        "\n",
        "\n",
        "\n",
        "\n",
        "\n",
        "\n"
      ],
      "metadata": {
        "id": "GWqrl8zK1idB"
      }
    },
    {
      "cell_type": "markdown",
      "source": [
        "3."
      ],
      "metadata": {
        "id": "sfAfUArv3BS6"
      }
    },
    {
      "cell_type": "code",
      "source": [
        "# 1. Empty file\n",
        "empty_file = \"empty.txt\"\n",
        "with open(empty_file, 'w') as file:\n",
        "    pass\n",
        "\n",
        "line_count = Counting_lines(empty_file)\n",
        "print(f\"Empty file - Line count: {line_count}\")  # Expected output: 0\n",
        "\n",
        "word_count = Counting_words(empty_file)\n",
        "print(f\"Empty file - Word count: {word_count}\")  # Expected output: 0\n",
        "\n",
        "total_chars, chars_without_whitespace = Counting_characters(empty_file)\n",
        "print(f\"Empty file - Total characters (with whitespace): {total_chars}\")  # Expected output: 0\n",
        "print(f\"Empty file - Total characters (without whitespace): {chars_without_whitespace}\")  # Expected output: 0\n",
        "\n",
        "word_frequency = Counting_word_frequency(empty_file)\n",
        "print(f\"Empty file - Word frequency: {word_frequency}\")  # Expected output: {}\n",
        "\n",
        "top_common_words = Getting_top_common_words(empty_file)\n",
        "print(f\"Empty file - Top common words: {top_common_words}\")  # Expected output: []\n",
        "\n",
        "print()"
      ],
      "metadata": {
        "id": "lFfP6YboDgOx"
      },
      "execution_count": null,
      "outputs": []
    },
    {
      "cell_type": "code",
      "source": [
        "# 2. File with unusual characters\n",
        "unusual_file = \"unusual_file.txt\"\n",
        "with open(unusual_file, 'w') as file:\n",
        "    file.write(\"Hello @world! #123\")\n",
        "\n",
        "line_count = Counting_lines(unusual_file)\n",
        "print(f\"Unusual file - Line count: {line_count}\")  # Expected output: 1\n",
        "\n",
        "word_count = Counting_words(unusual_file)\n",
        "print(f\"Unusual file - Word count: {word_count}\")  # Expected output: 3\n",
        "\n",
        "total_chars, chars_without_whitespace = Counting_characters(unusual_file)\n",
        "print(f\"Unusual file - Total characters (with whitespace): {total_chars}\")  # Expected output: 16\n",
        "print(f\"Unusual file - Total characters (without whitespace): {chars_without_whitespace}\")  # Expected output: 12\n",
        "\n",
        "word_frequency = Counting_word_frequency(unusual_file)\n",
        "print(f\"Unusual file - Word frequency: {word_frequency}\")  # Expected output: {'Hello': 1, '@world!': 1, '#123': 1}\n",
        "\n",
        "top_common_words = Getting_top_common_words(unusual_file)\n",
        "print(f\"Unusual file - Top common words: {top_common_words}\")  # Expected output: [('Hello', 1), ('@world!', 1), ('#123', 1)]\n",
        "\n",
        "print()"
      ],
      "metadata": {
        "id": "ZUyiftzJD8De"
      },
      "execution_count": null,
      "outputs": []
    },
    {
      "cell_type": "markdown",
      "source": [
        "4."
      ],
      "metadata": {
        "id": "bCgquOYNAtSi"
      }
    },
    {
      "cell_type": "markdown",
      "source": [
        "Modify tool to Analyse Large Files:\n",
        "Streaming solution can be use for huge files that will not fit in memory, which processes the file in smaller chunks or lines rather than putting the complete file into memory.\n",
        "\n",
        "Modify tool to Analyse Binary Files:\n",
        "To extract useful information from the binary data for word frequency analysis, I might need to establish a particular word pattern or structure.\n",
        "\n",
        "\n",
        "Useful Analysis for Binary or Large Files:\n",
        "In binary files, counting the lines in the file can reveal information about its structure or act as a processing progress indicator. Also, on particular characteristics or patterns contained in the binary data, such as byte distributions, histograms, or correlations, statistical analysis can be conducted.\n",
        "\n",
        "\n"
      ],
      "metadata": {
        "id": "wNULOarTAup_"
      }
    },
    {
      "cell_type": "markdown",
      "source": [
        "# Question 2\n",
        "\n",
        "**Question:**\n",
        "\n",
        "As a new junior developer at EcommEasy, an e-commerce platform company, you're assigned to debug and refactor a piece of code left by one of the departed team members. This code is meant to determine if a customer is eligible for a certain promotional discount based on their total order value.\n",
        "\n",
        "Unfortunately, the code is obfuscated, lacks documentation, and doesn't function as expected. Your task is to identify the error, correct it, and refactor the code according to the best industry practices, which include clear variable naming, detailed comments, error handling, and overall code readability. \n",
        "\n",
        "Here is the problematic code:\n",
        "\n",
        "```python\n",
        "def promo(o):\n",
        "    p = None\n",
        "    if o > 50 and o < 100:\n",
        "        p = 5\n",
        "    elif o > 100:\n",
        "        p = 10\n",
        "    else:\n",
        "        p = 0\n",
        "    if o <= 0 or o is None:\n",
        "        raise ValueError(\"Order value not valid!\")\n",
        "    return o*(p/100)\n",
        "```\n",
        "\n",
        "*Question subparts:*\n",
        "\n",
        "1. What is the error in the above code and why does it fail to calculate the promotional discount correctly?\n",
        "2. How would you correct the error?\n",
        "3. How would you refactor this code to align it with industry best practices? Write the refactored code within this or another notebook. Please include appropriate variable names, comments, error handling, and a basic explanation of the code for a layperson.\n",
        "4. Write a few test cases to confirm the code is functioning as expected.\n",
        "\n",
        "Hint: The promo function is supposed to apply a 5% discount if the order total is between \\$50 and \\$100 (inclusive), and a 10% discount if the order total exceeds \\$100. Orders less than or equal to \\$0 or null should raise an exception.\n",
        "\n",
        "**[20 Marks]**"
      ],
      "metadata": {
        "id": "yYD1q2Mx95vB"
      }
    },
    {
      "cell_type": "markdown",
      "source": [
        "#**Answers for Question 2**"
      ],
      "metadata": {
        "id": "vTPRpgFWY6sA"
      }
    },
    {
      "cell_type": "markdown",
      "source": [
        "1."
      ],
      "metadata": {
        "id": "UjjdK01acDT6"
      }
    },
    {
      "cell_type": "markdown",
      "source": [
        "There are 2 errors in this code, namely, value error and logical error. \n",
        "\n",
        "The logical error occurs as value of 'o' is only less than zero where it should have been less or equal to zero as it mentions 'o' is in between 50 and 100. \n",
        "\n",
        "The value error in this code is When the sequence of value (o') is \"None,\" less than 0, or equal to 0, the value error takes place. A \"ValueError\" arises in both scenarios with the error message \"Order value not valid!\" This is the code's value mistake.\n"
      ],
      "metadata": {
        "id": "_KoqPGu2RttF"
      }
    },
    {
      "cell_type": "markdown",
      "source": [
        "2.\n"
      ],
      "metadata": {
        "id": "FVpHkzDbb8ET"
      }
    },
    {
      "cell_type": "code",
      "source": [
        "def promo(o):\n",
        "  if o is None or o<= 0:\n",
        "    raise ValueError(\"Order value not valid!\")\n",
        "\n",
        "  p = None\n",
        "  if o >= 50 and 0 <= 100:\n",
        "    p = 5\n",
        "  elif o > 100:\n",
        "    p = 10\n",
        "  else:\n",
        "    p = 0\n",
        "\n",
        "  return o * (p/100)"
      ],
      "metadata": {
        "id": "YwW5ga43anPF"
      },
      "execution_count": null,
      "outputs": []
    },
    {
      "cell_type": "markdown",
      "source": [
        "3."
      ],
      "metadata": {
        "id": "OHss-MtTcIpK"
      }
    },
    {
      "cell_type": "code",
      "source": [
        "def calculate_promotional_discount(order_value):\n",
        "    if order_value is None or order_value <= 0:\n",
        "        raise ValueError(\"Invalid order value! Order value must be greater than 0.\")\n",
        "\n",
        "    discount_percentage = 0\n",
        "\n",
        "    if 50 <= order_value <= 100:\n",
        "        discount_percentage = 5\n",
        "    elif order_value > 100:\n",
        "        discount_percentage = 10\n",
        "\n",
        "    discount_amount = order_value * (discount_percentage / 100)\n",
        "    return discount_amount\n"
      ],
      "metadata": {
        "id": "XcTL3Qcnb2vZ"
      },
      "execution_count": null,
      "outputs": []
    },
    {
      "cell_type": "markdown",
      "source": [
        "4."
      ],
      "metadata": {
        "id": "IVazUwpZoQ6o"
      }
    },
    {
      "cell_type": "code",
      "source": [
        "def test_calculate_promotional_discount():\n",
        "    # Test case 1: Order value within the range (50, 100)\n",
        "    order_value = 75\n",
        "    expected_discount = 3.75\n",
        "    assert calculate_promotional_discount(order_value) == expected_discount\n",
        "\n",
        "    # Test case 2: Order value above 100\n",
        "    order_value = 150\n",
        "    expected_discount = 15.0\n",
        "    assert calculate_promotional_discount(order_value) == expected_discount\n",
        "\n",
        "    # Test case 3: Order value below 50\n",
        "    order_value = 30\n",
        "    expected_discount = 0.0\n",
        "    assert calculate_promotional_discount(order_value) == expected_discount\n",
        "\n",
        "    # Test case 4: Order value as None\n",
        "    order_value = None\n",
        "    try:\n",
        "        calculate_promotional_discount(order_value)\n",
        "    except ValueError as e:\n",
        "        assert str(e) == \"Invalid order value! Order value must be greater than 0.\"\n",
        "\n",
        "    # Test case 5: Order value as negative number\n",
        "    order_value = -50\n",
        "    try:\n",
        "        calculate_promotional_discount(order_value)\n",
        "    except ValueError as e:\n",
        "        assert str(e) == \"Invalid order value! Order value must be greater than 0.\"\n",
        "\n",
        "    print(\"All test cases passed successfully!\")\n",
        "\n",
        "\n",
        "# Run the test cases\n",
        "test_calculate_promotional_discount()\n",
        "\n"
      ],
      "metadata": {
        "id": "oO4WKzIqoWcO"
      },
      "execution_count": null,
      "outputs": []
    },
    {
      "cell_type": "markdown",
      "source": [
        "# Question 3\n",
        "\n",
        "You have been given a task to develop a simple script that extracts news articles' title and text from a list of URLs. Your company, DataScrapr, is working on a project to analyze the sentiment of news articles from several news outlets and this task is the first step in the data collection process.\n",
        "\n",
        "The task requires you to use Python, along with the `Newspaper3k` library, which is a simple and efficient tool for extracting and curating articles.\n",
        "\n",
        "Here is your task:\n",
        "\n",
        "1. Write a Python script that takes a list of URLs as input. Each URL points to a news article.\n",
        "2. For each URL, your script should extract the article's title and the full text of the article.\n",
        "3. The output of your script should be a list of dictionaries. Each dictionary should contain the URL, the article title, and the article text.\n",
        "4. Include error checking in your script to handle possible issues with the URLs or the extraction process. \n",
        "\n",
        "*Question subparts:*\n",
        "\n",
        "1. Implement the above-described script.\n",
        "2. Explain how your script works and the role of the `Newspaper3k` library in the script.\n",
        "3. How would you handle potential issues, such as a URL that doesn't point to a valid article or network errors?\n",
        "4. Provide a few example URLs and show the output of your script when run with these URLs.\n",
        "\n",
        "Note: Please be mindful of the terms of use for any website you are scraping, and make sure to respect the website's robots.txt file.\n",
        "\n",
        "**[25 marks]**"
      ],
      "metadata": {
        "id": "YaDX0dOQA_py"
      }
    },
    {
      "cell_type": "markdown",
      "source": [
        "#**Answers for Question 3**"
      ],
      "metadata": {
        "id": "x3sdRJuIegZC"
      }
    },
    {
      "cell_type": "markdown",
      "source": [
        "1."
      ],
      "metadata": {
        "id": "ghWkiQPEeq_R"
      }
    },
    {
      "cell_type": "code",
      "source": [
        "!pip install newspaper3k\n",
        "import newspaper\n",
        "\n",
        "article_1 = input(\"Please enter the 1st url\")\n",
        "\n",
        "article_2 = input(\"Please enter the 2nd url\")\n",
        "\n",
        "article_3 = input(\"Please eneter the 3rd url\")\n",
        "\n",
        "list_articles_urls = [article_1, article_2, article_3]\n",
        "\n",
        "list_outputs = []\n",
        "\n",
        "for article_url in list_articles_urls:\n",
        "\n",
        "  try:\n",
        "\n",
        "    article = newspaper.Article(article_url)\n",
        "\n",
        "    article.download()\n",
        "\n",
        "    article.parse()\n",
        "\n",
        "    if article.text:\n",
        "\n",
        "      url = article.url\n",
        "\n",
        "      title = article.title\n",
        "\n",
        "      txt = article.text\n",
        "\n",
        "      dictionary = {\"URL:{}\".format(url), \"Title:{}\".format(title), \"Text:{}\".format(txt)}\n",
        "\n",
        "      list_outputs.append(dictionary)\n",
        "\n",
        "    else :\n",
        "\n",
        "      print(f\"No text found for the corresponding url: {article_url}\")  \n",
        "\n",
        "  except Exception as ex:\n",
        "\n",
        "    print(f\"Error processing URL: {article_url}\\nException message: {str(ex)}\")\n",
        "\n",
        "\n",
        "\n",
        "for article_dictnry in list_outputs:\n",
        "\n",
        "  print(article_dictnry)\n"
      ],
      "metadata": {
        "id": "osaBpxsQfIQJ"
      },
      "execution_count": null,
      "outputs": []
    },
    {
      "cell_type": "markdown",
      "source": [
        "2."
      ],
      "metadata": {
        "id": "8QOglvyOfEdG"
      }
    },
    {
      "cell_type": "markdown",
      "source": [
        "The '!pip install newspaper3k' command is used to install the 'newspaper3k' library at the beginning of the script.\n",
        "\n",
        "Three URLs, which stand for three news articles, are requested from the user.\n",
        "\n",
        "The 'article_1', 'article_2', and 'article_3' variables contain the URLs that the user entered.\n",
        "\n",
        "The entered URLs are added to a list the script builds named 'list_articles_urls'.\n",
        "\n",
        "The dictionaries holding the information that was extracted for each article are initially stored in a different list named 'list_outputs'.\n",
        "\n",
        "The script uses a \"for\" loop to cycle through each URL in the \"list_articles_urls\" variable.\n",
        "\n",
        "It attempts to use the 'newspaper.Article' class from the 'newspaper3k' library inside the loop to parse each article URL.\n",
        "\n",
        "If the article contains text content (which is determined by using the \"if article.text:\" command), a dictionary is constructed with the entries \"URL,\" \"Title,\" and \"Text\" mapping to the corresponding extracted values.\n",
        "\n",
        "The dictionary is appended to the 'list_outputs'.\n",
        "\n",
        "The script iterates through the \"list_outputs\" and prints each dictionary holding the information that was retrieved for each article after parsing all the URLs.\n",
        "\n",
        "\n"
      ],
      "metadata": {
        "id": "ZKOHArunfJHj"
      }
    },
    {
      "cell_type": "markdown",
      "source": [
        "3.\n"
      ],
      "metadata": {
        "id": "4nuLebnPrCce"
      }
    },
    {
      "cell_type": "markdown",
      "source": [
        "If there is no text in the article, a notice is printed saying: No text was found for the corresponding URL.\n",
        "\n",
        "An error message is printed with the URL and the exception message whenever any issue occurs while processing an article."
      ],
      "metadata": {
        "id": "Z07qDfESsRV2"
      }
    },
    {
      "cell_type": "markdown",
      "source": [
        "# Question 4\n",
        "\n",
        "Write a reflective report that identifies and discusses what you perceive as the most impactful activity within this course unit, and its contributions to your understanding of an ISYS2001 activity or topic. **Additionally, please incorporate all your weekly journal entries as an appendix to this report.** The report should be prepared in a Microsoft Word document, which will be submitted via the TurnItin link available on Blackboard.\n",
        "\n",
        "**[15 marks]**"
      ],
      "metadata": {
        "id": "YQ0itNBkCClk"
      }
    },
    {
      "cell_type": "code",
      "source": [],
      "metadata": {
        "id": "1MRfZlWQCB_X"
      },
      "execution_count": null,
      "outputs": []
    }
  ]
}